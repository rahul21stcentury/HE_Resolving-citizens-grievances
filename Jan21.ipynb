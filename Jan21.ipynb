{
 "cells": [
  {
   "cell_type": "code",
   "execution_count": 1,
   "metadata": {},
   "outputs": [],
   "source": [
    "import seaborn as sns"
   ]
  },
  {
   "cell_type": "code",
   "execution_count": 2,
   "metadata": {
    "scrolled": true
   },
   "outputs": [],
   "source": [
    "import xgboost as xgb"
   ]
  },
  {
   "cell_type": "code",
   "execution_count": 3,
   "metadata": {},
   "outputs": [],
   "source": [
    "import matplotlib.pyplot as plt\n",
    "from sklearn import preprocessing\n",
    "from sklearn.neighbors import KNeighborsClassifier"
   ]
  },
  {
   "cell_type": "code",
   "execution_count": 4,
   "metadata": {},
   "outputs": [
    {
     "name": "stderr",
     "output_type": "stream",
     "text": [
      "c:\\users\\16063\\appdata\\local\\programs\\python\\python39\\lib\\site-packages\\IPython\\core\\interactiveshell.py:3146: DtypeWarning: Columns (16,17,18,19,20,22,23,24,25,26,27,28,45,49,50,51) have mixed types.Specify dtype option on import or set low_memory=False.\n",
      "  has_raised = await self.run_ast_nodes(code_ast.body, cell_name,\n"
     ]
    },
    {
     "data": {
      "text/html": [
       "<div>\n",
       "<style scoped>\n",
       "    .dataframe tbody tr th:only-of-type {\n",
       "        vertical-align: middle;\n",
       "    }\n",
       "\n",
       "    .dataframe tbody tr th {\n",
       "        vertical-align: top;\n",
       "    }\n",
       "\n",
       "    .dataframe thead th {\n",
       "        text-align: right;\n",
       "    }\n",
       "</style>\n",
       "<table border=\"1\" class=\"dataframe\">\n",
       "  <thead>\n",
       "    <tr style=\"text-align: right;\">\n",
       "      <th></th>\n",
       "      <th>appno</th>\n",
       "      <th>application</th>\n",
       "      <th>country.alpha2</th>\n",
       "      <th>country.name</th>\n",
       "      <th>decisiondate</th>\n",
       "      <th>docname</th>\n",
       "      <th>doctypebranch</th>\n",
       "      <th>ecli</th>\n",
       "      <th>introductiondate</th>\n",
       "      <th>issue.0</th>\n",
       "      <th>...</th>\n",
       "      <th>ccl_article=6</th>\n",
       "      <th>ccl_article=7</th>\n",
       "      <th>ccl_article=8</th>\n",
       "      <th>ccl_article=9</th>\n",
       "      <th>ccl_article=p1</th>\n",
       "      <th>ccl_article=p12</th>\n",
       "      <th>ccl_article=p4</th>\n",
       "      <th>ccl_article=p6</th>\n",
       "      <th>ccl_article=p7</th>\n",
       "      <th>importance</th>\n",
       "    </tr>\n",
       "  </thead>\n",
       "  <tbody>\n",
       "    <tr>\n",
       "      <th>0</th>\n",
       "      <td>2052/08</td>\n",
       "      <td>MS WORD</td>\n",
       "      <td>ru</td>\n",
       "      <td>Russian Federation</td>\n",
       "      <td>NaN</td>\n",
       "      <td>CASE OF KOKOSHKINA v. RUSSIA</td>\n",
       "      <td>CHAMBER</td>\n",
       "      <td>ECLI:CE:ECHR:2009:0528JUD000205208</td>\n",
       "      <td>NaN</td>\n",
       "      <td>NaN</td>\n",
       "      <td>...</td>\n",
       "      <td>0</td>\n",
       "      <td>0</td>\n",
       "      <td>0</td>\n",
       "      <td>0</td>\n",
       "      <td>0</td>\n",
       "      <td>0</td>\n",
       "      <td>0</td>\n",
       "      <td>0</td>\n",
       "      <td>0</td>\n",
       "      <td>4</td>\n",
       "    </tr>\n",
       "    <tr>\n",
       "      <th>1</th>\n",
       "      <td>4728/07</td>\n",
       "      <td>MS WORD</td>\n",
       "      <td>tr</td>\n",
       "      <td>Turkey</td>\n",
       "      <td>NaN</td>\n",
       "      <td>CASE OF ÖZCAN v. TURKEY</td>\n",
       "      <td>COMMITTEE</td>\n",
       "      <td>ECLI:CE:ECHR:2018:0710JUD000472807</td>\n",
       "      <td>NaN</td>\n",
       "      <td>NaN</td>\n",
       "      <td>...</td>\n",
       "      <td>0</td>\n",
       "      <td>0</td>\n",
       "      <td>0</td>\n",
       "      <td>0</td>\n",
       "      <td>0</td>\n",
       "      <td>0</td>\n",
       "      <td>0</td>\n",
       "      <td>0</td>\n",
       "      <td>0</td>\n",
       "      <td>4</td>\n",
       "    </tr>\n",
       "    <tr>\n",
       "      <th>2</th>\n",
       "      <td>44135/06</td>\n",
       "      <td>MS WORD</td>\n",
       "      <td>si</td>\n",
       "      <td>Slovenia</td>\n",
       "      <td>NaN</td>\n",
       "      <td>CASE OF DANIJEL PEČNIK v. SLOVENIA</td>\n",
       "      <td>CHAMBER</td>\n",
       "      <td>ECLI:CE:ECHR:2012:1018JUD004413506</td>\n",
       "      <td>NaN</td>\n",
       "      <td>NaN</td>\n",
       "      <td>...</td>\n",
       "      <td>1</td>\n",
       "      <td>0</td>\n",
       "      <td>0</td>\n",
       "      <td>0</td>\n",
       "      <td>0</td>\n",
       "      <td>0</td>\n",
       "      <td>0</td>\n",
       "      <td>0</td>\n",
       "      <td>0</td>\n",
       "      <td>4</td>\n",
       "    </tr>\n",
       "    <tr>\n",
       "      <th>3</th>\n",
       "      <td>2607/08</td>\n",
       "      <td>MS WORD</td>\n",
       "      <td>ch</td>\n",
       "      <td>Switzerland</td>\n",
       "      <td>NaN</td>\n",
       "      <td>CASE OF PALANCI v. SWITZERLAND</td>\n",
       "      <td>CHAMBER</td>\n",
       "      <td>ECLI:CE:ECHR:2014:0325JUD000260708</td>\n",
       "      <td>NaN</td>\n",
       "      <td>NaN</td>\n",
       "      <td>...</td>\n",
       "      <td>0</td>\n",
       "      <td>0</td>\n",
       "      <td>-1</td>\n",
       "      <td>0</td>\n",
       "      <td>0</td>\n",
       "      <td>0</td>\n",
       "      <td>0</td>\n",
       "      <td>0</td>\n",
       "      <td>0</td>\n",
       "      <td>4</td>\n",
       "    </tr>\n",
       "    <tr>\n",
       "      <th>4</th>\n",
       "      <td>27001/06</td>\n",
       "      <td>MS WORD</td>\n",
       "      <td>ru</td>\n",
       "      <td>Russian Federation</td>\n",
       "      <td>NaN</td>\n",
       "      <td>CASE OF AMANAT ILYASOVA AND OTHERS v. RUSSIA</td>\n",
       "      <td>CHAMBER</td>\n",
       "      <td>ECLI:CE:ECHR:2009:1001JUD002700106</td>\n",
       "      <td>NaN</td>\n",
       "      <td>NaN</td>\n",
       "      <td>...</td>\n",
       "      <td>0</td>\n",
       "      <td>0</td>\n",
       "      <td>0</td>\n",
       "      <td>0</td>\n",
       "      <td>0</td>\n",
       "      <td>0</td>\n",
       "      <td>0</td>\n",
       "      <td>0</td>\n",
       "      <td>0</td>\n",
       "      <td>4</td>\n",
       "    </tr>\n",
       "  </tbody>\n",
       "</table>\n",
       "<p>5 rows × 328 columns</p>\n",
       "</div>"
      ],
      "text/plain": [
       "      appno application country.alpha2        country.name decisiondate  \\\n",
       "0   2052/08     MS WORD             ru  Russian Federation          NaN   \n",
       "1   4728/07     MS WORD             tr              Turkey          NaN   \n",
       "2  44135/06     MS WORD             si            Slovenia          NaN   \n",
       "3   2607/08     MS WORD             ch         Switzerland          NaN   \n",
       "4  27001/06     MS WORD             ru  Russian Federation          NaN   \n",
       "\n",
       "                                        docname doctypebranch  \\\n",
       "0                  CASE OF KOKOSHKINA v. RUSSIA       CHAMBER   \n",
       "1                       CASE OF ÖZCAN v. TURKEY     COMMITTEE   \n",
       "2            CASE OF DANIJEL PEČNIK v. SLOVENIA       CHAMBER   \n",
       "3                CASE OF PALANCI v. SWITZERLAND       CHAMBER   \n",
       "4  CASE OF AMANAT ILYASOVA AND OTHERS v. RUSSIA       CHAMBER   \n",
       "\n",
       "                                 ecli introductiondate issue.0  ...  \\\n",
       "0  ECLI:CE:ECHR:2009:0528JUD000205208              NaN     NaN  ...   \n",
       "1  ECLI:CE:ECHR:2018:0710JUD000472807              NaN     NaN  ...   \n",
       "2  ECLI:CE:ECHR:2012:1018JUD004413506              NaN     NaN  ...   \n",
       "3  ECLI:CE:ECHR:2014:0325JUD000260708              NaN     NaN  ...   \n",
       "4  ECLI:CE:ECHR:2009:1001JUD002700106              NaN     NaN  ...   \n",
       "\n",
       "  ccl_article=6 ccl_article=7 ccl_article=8 ccl_article=9 ccl_article=p1  \\\n",
       "0             0             0             0             0              0   \n",
       "1             0             0             0             0              0   \n",
       "2             1             0             0             0              0   \n",
       "3             0             0            -1             0              0   \n",
       "4             0             0             0             0              0   \n",
       "\n",
       "  ccl_article=p12 ccl_article=p4 ccl_article=p6 ccl_article=p7 importance  \n",
       "0               0              0              0              0          4  \n",
       "1               0              0              0              0          4  \n",
       "2               0              0              0              0          4  \n",
       "3               0              0              0              0          4  \n",
       "4               0              0              0              0          4  \n",
       "\n",
       "[5 rows x 328 columns]"
      ]
     },
     "execution_count": 4,
     "metadata": {},
     "output_type": "execute_result"
    }
   ],
   "source": [
    "import pandas as pd\n",
    "data=pd.read_csv(\"train.csv\")\n",
    "data.head()"
   ]
  },
  {
   "cell_type": "code",
   "execution_count": 5,
   "metadata": {},
   "outputs": [],
   "source": [
    "data=data.drop(['sharepointid','application','country.alpha2','decisiondate','docname','itemid','judgementdate','kpdate','languageisocode','originatingbody_type','parties.0','parties.1','parties.2','respondent.0','respondent.1','respondent.2','respondent.3',\n",
    "           'respondent.4'],axis=1)"
   ]
  },
  {
   "cell_type": "code",
   "execution_count": 6,
   "metadata": {},
   "outputs": [],
   "source": [
    "req_res=data['importance']"
   ]
  },
  {
   "cell_type": "code",
   "execution_count": 7,
   "metadata": {},
   "outputs": [
    {
     "data": {
      "text/plain": [
       "8878"
      ]
     },
     "execution_count": 7,
     "metadata": {},
     "output_type": "execute_result"
    }
   ],
   "source": [
    "data.shape[0]"
   ]
  },
  {
   "cell_type": "code",
   "execution_count": 8,
   "metadata": {},
   "outputs": [
    {
     "data": {
      "text/plain": [
       "appno                  0\n",
       "country.name           0\n",
       "doctypebranch          0\n",
       "ecli                   0\n",
       "introductiondate    8202\n",
       "                    ... \n",
       "ccl_article=p12        0\n",
       "ccl_article=p4         0\n",
       "ccl_article=p6         0\n",
       "ccl_article=p7         0\n",
       "importance             0\n",
       "Length: 310, dtype: int64"
      ]
     },
     "execution_count": 8,
     "metadata": {},
     "output_type": "execute_result"
    }
   ],
   "source": [
    "colnames=data.columns\n",
    "values=data.isna().sum()\n",
    "values"
   ]
  },
  {
   "cell_type": "code",
   "execution_count": 9,
   "metadata": {},
   "outputs": [
    {
     "name": "stdout",
     "output_type": "stream",
     "text": [
      "introductiondate       8202\n",
      "issue.0       6630\n",
      "issue.1       7693\n",
      "issue.10       8857\n",
      "issue.11       8861\n",
      "issue.12       8863\n",
      "issue.13       8866\n",
      "issue.14       8868\n",
      "issue.15       8871\n",
      "issue.16       8874\n",
      "issue.17       8875\n",
      "issue.18       8876\n",
      "issue.19       8876\n",
      "issue.2       8239\n",
      "issue.20       8876\n",
      "issue.21       8876\n",
      "issue.22       8876\n",
      "issue.23       8876\n",
      "issue.24       8877\n",
      "issue.25       8877\n",
      "issue.26       8877\n",
      "issue.3       8508\n",
      "issue.4       8668\n",
      "issue.5       8757\n",
      "issue.6       8801\n",
      "issue.7       8825\n",
      "issue.8       8847\n",
      "issue.9       8853\n"
     ]
    }
   ],
   "source": [
    "empty=[]\n",
    "for i in range(len(colnames)):\n",
    "    if(values[i]!=0):\n",
    "        print(colnames[i]+\"       \"+str(values[i]))\n",
    "        empty.append(colnames[i])"
   ]
  },
  {
   "cell_type": "code",
   "execution_count": 10,
   "metadata": {},
   "outputs": [
    {
     "name": "stdout",
     "output_type": "stream",
     "text": [
      "Index(['appno', 'country.name', 'doctypebranch', 'ecli', 'introductiondate',\n",
      "       'issue.0', 'issue.1', 'issue.10', 'issue.11', 'issue.12',\n",
      "       ...\n",
      "       'ccl_article=6', 'ccl_article=7', 'ccl_article=8', 'ccl_article=9',\n",
      "       'ccl_article=p1', 'ccl_article=p12', 'ccl_article=p4', 'ccl_article=p6',\n",
      "       'ccl_article=p7', 'importance'],\n",
      "      dtype='object', length=310)\n",
      "The number of empty cols:310\n"
     ]
    }
   ],
   "source": [
    "print(colnames)\n",
    "print(\"The number of empty cols:\"+str(len(colnames)))"
   ]
  },
  {
   "cell_type": "code",
   "execution_count": 11,
   "metadata": {},
   "outputs": [],
   "source": [
    "data=data.drop(empty,axis=1)"
   ]
  },
  {
   "cell_type": "code",
   "execution_count": 12,
   "metadata": {},
   "outputs": [],
   "source": [
    "data['ecli']=data['ecli'].iloc[:].str.slice(13,17)"
   ]
  },
  {
   "cell_type": "code",
   "execution_count": 13,
   "metadata": {},
   "outputs": [
    {
     "data": {
      "text/html": [
       "<div>\n",
       "<style scoped>\n",
       "    .dataframe tbody tr th:only-of-type {\n",
       "        vertical-align: middle;\n",
       "    }\n",
       "\n",
       "    .dataframe tbody tr th {\n",
       "        vertical-align: top;\n",
       "    }\n",
       "\n",
       "    .dataframe thead th {\n",
       "        text-align: right;\n",
       "    }\n",
       "</style>\n",
       "<table border=\"1\" class=\"dataframe\">\n",
       "  <thead>\n",
       "    <tr style=\"text-align: right;\">\n",
       "      <th></th>\n",
       "      <th>appno</th>\n",
       "      <th>country.name</th>\n",
       "      <th>doctypebranch</th>\n",
       "      <th>ecli</th>\n",
       "      <th>originatingbody</th>\n",
       "      <th>originatingbody_name</th>\n",
       "      <th>rank</th>\n",
       "      <th>respondentOrderEng</th>\n",
       "      <th>separateopinion</th>\n",
       "      <th>typedescription</th>\n",
       "      <th>...</th>\n",
       "      <th>ccl_article=6</th>\n",
       "      <th>ccl_article=7</th>\n",
       "      <th>ccl_article=8</th>\n",
       "      <th>ccl_article=9</th>\n",
       "      <th>ccl_article=p1</th>\n",
       "      <th>ccl_article=p12</th>\n",
       "      <th>ccl_article=p4</th>\n",
       "      <th>ccl_article=p6</th>\n",
       "      <th>ccl_article=p7</th>\n",
       "      <th>importance</th>\n",
       "    </tr>\n",
       "  </thead>\n",
       "  <tbody>\n",
       "    <tr>\n",
       "      <th>0</th>\n",
       "      <td>2052/08</td>\n",
       "      <td>Russian Federation</td>\n",
       "      <td>CHAMBER</td>\n",
       "      <td>2009</td>\n",
       "      <td>4</td>\n",
       "      <td>First Section</td>\n",
       "      <td>685.417419</td>\n",
       "      <td>38</td>\n",
       "      <td>False</td>\n",
       "      <td>15</td>\n",
       "      <td>...</td>\n",
       "      <td>0</td>\n",
       "      <td>0</td>\n",
       "      <td>0</td>\n",
       "      <td>0</td>\n",
       "      <td>0</td>\n",
       "      <td>0</td>\n",
       "      <td>0</td>\n",
       "      <td>0</td>\n",
       "      <td>0</td>\n",
       "      <td>4</td>\n",
       "    </tr>\n",
       "    <tr>\n",
       "      <th>1</th>\n",
       "      <td>4728/07</td>\n",
       "      <td>Turkey</td>\n",
       "      <td>COMMITTEE</td>\n",
       "      <td>2018</td>\n",
       "      <td>26</td>\n",
       "      <td>Second Section Committee</td>\n",
       "      <td>2641.901855</td>\n",
       "      <td>47</td>\n",
       "      <td>False</td>\n",
       "      <td>15</td>\n",
       "      <td>...</td>\n",
       "      <td>0</td>\n",
       "      <td>0</td>\n",
       "      <td>0</td>\n",
       "      <td>0</td>\n",
       "      <td>0</td>\n",
       "      <td>0</td>\n",
       "      <td>0</td>\n",
       "      <td>0</td>\n",
       "      <td>0</td>\n",
       "      <td>4</td>\n",
       "    </tr>\n",
       "    <tr>\n",
       "      <th>2</th>\n",
       "      <td>44135/06</td>\n",
       "      <td>Slovenia</td>\n",
       "      <td>CHAMBER</td>\n",
       "      <td>2012</td>\n",
       "      <td>23</td>\n",
       "      <td>Fith Section</td>\n",
       "      <td>942.213440</td>\n",
       "      <td>43</td>\n",
       "      <td>True</td>\n",
       "      <td>15</td>\n",
       "      <td>...</td>\n",
       "      <td>1</td>\n",
       "      <td>0</td>\n",
       "      <td>0</td>\n",
       "      <td>0</td>\n",
       "      <td>0</td>\n",
       "      <td>0</td>\n",
       "      <td>0</td>\n",
       "      <td>0</td>\n",
       "      <td>0</td>\n",
       "      <td>4</td>\n",
       "    </tr>\n",
       "  </tbody>\n",
       "</table>\n",
       "<p>3 rows × 282 columns</p>\n",
       "</div>"
      ],
      "text/plain": [
       "      appno        country.name doctypebranch  ecli  originatingbody  \\\n",
       "0   2052/08  Russian Federation       CHAMBER  2009                4   \n",
       "1   4728/07              Turkey     COMMITTEE  2018               26   \n",
       "2  44135/06            Slovenia       CHAMBER  2012               23   \n",
       "\n",
       "       originatingbody_name         rank  respondentOrderEng  separateopinion  \\\n",
       "0             First Section   685.417419                  38            False   \n",
       "1  Second Section Committee  2641.901855                  47            False   \n",
       "2              Fith Section   942.213440                  43             True   \n",
       "\n",
       "   typedescription  ...  ccl_article=6  ccl_article=7  ccl_article=8  \\\n",
       "0               15  ...              0              0              0   \n",
       "1               15  ...              0              0              0   \n",
       "2               15  ...              1              0              0   \n",
       "\n",
       "   ccl_article=9  ccl_article=p1  ccl_article=p12  ccl_article=p4  \\\n",
       "0              0               0                0               0   \n",
       "1              0               0                0               0   \n",
       "2              0               0                0               0   \n",
       "\n",
       "   ccl_article=p6  ccl_article=p7  importance  \n",
       "0               0               0           4  \n",
       "1               0               0           4  \n",
       "2               0               0           4  \n",
       "\n",
       "[3 rows x 282 columns]"
      ]
     },
     "execution_count": 13,
     "metadata": {},
     "output_type": "execute_result"
    }
   ],
   "source": [
    "data.head(3)"
   ]
  },
  {
   "cell_type": "markdown",
   "metadata": {},
   "source": [
    "<h2> Exploratory Data Analysis through Visuliazation and Statistics </h2>"
   ]
  },
  {
   "cell_type": "markdown",
   "metadata": {},
   "source": [
    "<h3>Relationship between Various Variables <h3>"
   ]
  },
  {
   "cell_type": "code",
   "execution_count": 14,
   "metadata": {},
   "outputs": [
    {
     "data": {
      "image/png": "[encoded data removed]",
      "text/plain": [
       "<Figure size 720x720 with 1 Axes>"
      ]
     },
     "metadata": {
      "needs_background": "light"
     },
     "output_type": "display_data"
    }
   ],
   "source": [
    "importance_year=data[[\"ecli\",\"importance\"]].groupby(['ecli']).mean()\n",
    "importance_year=importance_year.reset_index()\n",
    "\n",
    "fig, ax = plt.subplots(figsize=(10,10))\n",
    "sns.barplot(data=importance_year,y='ecli',x='importance')\n",
    "plt.show()"
   ]
  },
  {
   "cell_type": "code",
   "execution_count": 15,
   "metadata": {},
   "outputs": [
    {
     "name": "stderr",
     "output_type": "stream",
     "text": [
      "<ipython-input-15-59baff71404a>:24: UserWarning: Matplotlib is currently using module://ipykernel.pylab.backend_inline, which is a non-GUI backend, so cannot show the figure.\n",
      "  fig.show()\n"
     ]
    },
    {
     "data": {
      "image/png": "[encoded data removed]",
      "text/plain": [
       "<Figure size 2160x720 with 3 Axes>"
      ]
     },
     "metadata": {
      "needs_background": "light"
     },
     "output_type": "display_data"
    }
   ],
   "source": [
    "fig, ax =plt.subplots(1,3,figsize=(30,10))\n",
    "#---------------------------------------------------------------------------------\n",
    "importance_year=data[[\"country.name\",\"importance\"]].groupby(['country.name']).mean()\n",
    "importance_year=importance_year.reset_index()\n",
    "importance_year=importance_year.sort_values(by=['importance'])\n",
    "c1=sns.barplot(data=importance_year,x='country.name',y='importance',ax=ax[0],palette='crest',edgecolor='black')\n",
    "c1.set(title='Country Vs Importance')\n",
    "c1.set_xticklabels(c1.get_xticklabels(), rotation=90)\n",
    "#-------------------------------------------------------------------------------\n",
    "importance_rank=data[[\"rank\",\"importance\"]].groupby([\"importance\"]).mean()\n",
    "importance_rank=importance_rank.reset_index()\n",
    "importance_rank=importance_rank.sort_values(by=['rank'])\n",
    "c2=sns.barplot(data=importance_rank,x='importance',y='rank',ax=ax[1])\n",
    "c2.set(title=\"importance Vs Rank\")\n",
    "c2.set_xticklabels(c2.get_xticklabels(), rotation=0)\n",
    "#-------------------------------------------------------------------------------\n",
    "importance_branch=data[[\"doctypebranch\",\"importance\"]].groupby(['doctypebranch']).mean()\n",
    "importance_branch=importance_branch.reset_index()\n",
    "importance_branch=importance_branch.sort_values(by=['importance'])\n",
    "c3=sns.barplot(data=importance_branch,x='doctypebranch',y='importance',ax=ax[2],palette='crest',edgecolor='black')\n",
    "c3.set(title='Branch Vs Importance')\n",
    "c3.set_xticklabels(c3.get_xticklabels(), rotation=90)\n",
    "#--------------------------------------------------------------------------------\n",
    "fig.show()"
   ]
  },
  {
   "cell_type": "code",
   "execution_count": 16,
   "metadata": {},
   "outputs": [
    {
     "data": {
      "text/html": [
       "<div>\n",
       "<style scoped>\n",
       "    .dataframe tbody tr th:only-of-type {\n",
       "        vertical-align: middle;\n",
       "    }\n",
       "\n",
       "    .dataframe tbody tr th {\n",
       "        vertical-align: top;\n",
       "    }\n",
       "\n",
       "    .dataframe thead th {\n",
       "        text-align: right;\n",
       "    }\n",
       "</style>\n",
       "<table border=\"1\" class=\"dataframe\">\n",
       "  <thead>\n",
       "    <tr style=\"text-align: right;\">\n",
       "      <th></th>\n",
       "      <th>appno</th>\n",
       "      <th>country.name</th>\n",
       "      <th>doctypebranch</th>\n",
       "      <th>ecli</th>\n",
       "      <th>originatingbody</th>\n",
       "      <th>originatingbody_name</th>\n",
       "      <th>rank</th>\n",
       "      <th>respondentOrderEng</th>\n",
       "      <th>separateopinion</th>\n",
       "      <th>typedescription</th>\n",
       "      <th>...</th>\n",
       "      <th>ccl_article=6</th>\n",
       "      <th>ccl_article=7</th>\n",
       "      <th>ccl_article=8</th>\n",
       "      <th>ccl_article=9</th>\n",
       "      <th>ccl_article=p1</th>\n",
       "      <th>ccl_article=p12</th>\n",
       "      <th>ccl_article=p4</th>\n",
       "      <th>ccl_article=p6</th>\n",
       "      <th>ccl_article=p7</th>\n",
       "      <th>importance</th>\n",
       "    </tr>\n",
       "  </thead>\n",
       "  <tbody>\n",
       "    <tr>\n",
       "      <th>0</th>\n",
       "      <td>2052/08</td>\n",
       "      <td>Russian Federation</td>\n",
       "      <td>CHAMBER</td>\n",
       "      <td>2009</td>\n",
       "      <td>4</td>\n",
       "      <td>First Section</td>\n",
       "      <td>685.417419</td>\n",
       "      <td>38</td>\n",
       "      <td>False</td>\n",
       "      <td>15</td>\n",
       "      <td>...</td>\n",
       "      <td>0</td>\n",
       "      <td>0</td>\n",
       "      <td>0</td>\n",
       "      <td>0</td>\n",
       "      <td>0</td>\n",
       "      <td>0</td>\n",
       "      <td>0</td>\n",
       "      <td>0</td>\n",
       "      <td>0</td>\n",
       "      <td>4</td>\n",
       "    </tr>\n",
       "    <tr>\n",
       "      <th>1</th>\n",
       "      <td>4728/07</td>\n",
       "      <td>Turkey</td>\n",
       "      <td>COMMITTEE</td>\n",
       "      <td>2018</td>\n",
       "      <td>26</td>\n",
       "      <td>Second Section Committee</td>\n",
       "      <td>2641.901855</td>\n",
       "      <td>47</td>\n",
       "      <td>False</td>\n",
       "      <td>15</td>\n",
       "      <td>...</td>\n",
       "      <td>0</td>\n",
       "      <td>0</td>\n",
       "      <td>0</td>\n",
       "      <td>0</td>\n",
       "      <td>0</td>\n",
       "      <td>0</td>\n",
       "      <td>0</td>\n",
       "      <td>0</td>\n",
       "      <td>0</td>\n",
       "      <td>4</td>\n",
       "    </tr>\n",
       "    <tr>\n",
       "      <th>2</th>\n",
       "      <td>44135/06</td>\n",
       "      <td>Slovenia</td>\n",
       "      <td>CHAMBER</td>\n",
       "      <td>2012</td>\n",
       "      <td>23</td>\n",
       "      <td>Fith Section</td>\n",
       "      <td>942.213440</td>\n",
       "      <td>43</td>\n",
       "      <td>True</td>\n",
       "      <td>15</td>\n",
       "      <td>...</td>\n",
       "      <td>1</td>\n",
       "      <td>0</td>\n",
       "      <td>0</td>\n",
       "      <td>0</td>\n",
       "      <td>0</td>\n",
       "      <td>0</td>\n",
       "      <td>0</td>\n",
       "      <td>0</td>\n",
       "      <td>0</td>\n",
       "      <td>4</td>\n",
       "    </tr>\n",
       "  </tbody>\n",
       "</table>\n",
       "<p>3 rows × 282 columns</p>\n",
       "</div>"
      ],
      "text/plain": [
       "      appno        country.name doctypebranch  ecli  originatingbody  \\\n",
       "0   2052/08  Russian Federation       CHAMBER  2009                4   \n",
       "1   4728/07              Turkey     COMMITTEE  2018               26   \n",
       "2  44135/06            Slovenia       CHAMBER  2012               23   \n",
       "\n",
       "       originatingbody_name         rank  respondentOrderEng  separateopinion  \\\n",
       "0             First Section   685.417419                  38            False   \n",
       "1  Second Section Committee  2641.901855                  47            False   \n",
       "2              Fith Section   942.213440                  43             True   \n",
       "\n",
       "   typedescription  ...  ccl_article=6  ccl_article=7  ccl_article=8  \\\n",
       "0               15  ...              0              0              0   \n",
       "1               15  ...              0              0              0   \n",
       "2               15  ...              1              0              0   \n",
       "\n",
       "   ccl_article=9  ccl_article=p1  ccl_article=p12  ccl_article=p4  \\\n",
       "0              0               0                0               0   \n",
       "1              0               0                0               0   \n",
       "2              0               0                0               0   \n",
       "\n",
       "   ccl_article=p6  ccl_article=p7  importance  \n",
       "0               0               0           4  \n",
       "1               0               0           4  \n",
       "2               0               0           4  \n",
       "\n",
       "[3 rows x 282 columns]"
      ]
     },
     "execution_count": 16,
     "metadata": {},
     "output_type": "execute_result"
    }
   ],
   "source": [
    "data.head(3)"
   ]
  },
  {
   "cell_type": "code",
   "execution_count": 17,
   "metadata": {},
   "outputs": [
    {
     "name": "stderr",
     "output_type": "stream",
     "text": [
      "<ipython-input-17-feba51765f76>:22: UserWarning: FixedFormatter should only be used together with FixedLocator\n",
      "  c3.set_xticklabels(c3.get_xticklabels(), rotation=90)\n",
      "<ipython-input-17-feba51765f76>:23: UserWarning: Matplotlib is currently using module://ipykernel.pylab.backend_inline, which is a non-GUI backend, so cannot show the figure.\n",
      "  fig.show()\n"
     ]
    },
    {
     "data": {
      "image/png": "[encoded data removed]",
      "text/plain": [
       "<Figure size 2160x720 with 3 Axes>"
      ]
     },
     "metadata": {
      "needs_background": "light"
     },
     "output_type": "display_data"
    }
   ],
   "source": [
    "fig, ax =plt.subplots(1,3,figsize=(30,10))\n",
    "#------------------------------------------------------------------------------\n",
    "importance_originatingbody=data[[\"originatingbody\",\"importance\"]].groupby(['originatingbody']).mean()\n",
    "importance_originatingbody=importance_originatingbody.reset_index()\n",
    "importance_originatingbody=importance_originatingbody.sort_values(by=['importance'])\n",
    "c1=sns.barplot(data=importance_originatingbody,x='originatingbody',y='importance',ax=ax[0],palette=\"magma\",edgecolor='black')\n",
    "c1.set(title='Branch Vs Importance')\n",
    "c1.set_xticklabels(c1.get_xticklabels(), rotation=0)\n",
    "#--------------------------------------------------------------------------------\n",
    "importance_originatingbody_name=data[[\"originatingbody_name\",\"importance\"]].groupby(['originatingbody_name']).mean()\n",
    "importance_originatingbody_name=importance_originatingbody_name.reset_index()\n",
    "importance_originatingbody_name=importance_originatingbody_name.sort_values(by=['importance'])\n",
    "c2=sns.barplot(data=importance_originatingbody_name,x='originatingbody_name',y='importance',ax=ax[1],palette=\"Blues\",edgecolor='black')\n",
    "c2.set(title='originatingbody_name Vs Importance')\n",
    "c2.set_xticklabels(c2.get_xticklabels(), rotation=90)\n",
    "#--------------------------------------------------------------------------------\n",
    "importance_respondentOrderEng=data[[\"respondentOrderEng\",\"importance\"]].groupby(['respondentOrderEng']).mean()\n",
    "importance_respondentOrderEng=importance_respondentOrderEng.reset_index()\n",
    "#importance_respondentOrderEng=importance_respondentOrderEng.sort_values(by=['respondentOrderEng'])\n",
    "c3=sns.lineplot(data=importance_respondentOrderEng, x=\"respondentOrderEng\", y=\"importance\",ax=ax[2])\n",
    "c3.set(title='respondentOrderEng Vs Importance')\n",
    "c3.set_xticklabels(c3.get_xticklabels(), rotation=90)\n",
    "fig.show()"
   ]
  },
  {
   "cell_type": "code",
   "execution_count": 18,
   "metadata": {},
   "outputs": [
    {
     "name": "stderr",
     "output_type": "stream",
     "text": [
      "<ipython-input-18-0fbddbc6db8d>:13: UserWarning: Matplotlib is currently using module://ipykernel.pylab.backend_inline, which is a non-GUI backend, so cannot show the figure.\n",
      "  fig.show()\n"
     ]
    },
    {
     "data": {
      "image/png": "[encoded data removed]",
      "text/plain": [
       "<Figure size 720x360 with 2 Axes>"
      ]
     },
     "metadata": {
      "needs_background": "light"
     },
     "output_type": "display_data"
    }
   ],
   "source": [
    "#------------------------------------------------------------\n",
    "fig, ax =plt.subplots(1,2,figsize=(10,5))\n",
    "#------------------------------------------------------------\n",
    "importance_separateopinion=data[[\"separateopinion\",\"importance\"]]\n",
    "c1=sns.boxplot(data=importance_separateopinion,x='separateopinion',y='importance',ax=ax[0],palette=\"magma\")\n",
    "c1.set(title='Branch Vs Importance')\n",
    "c1.set_xticklabels(c1.get_xticklabels(), rotation=0)\n",
    "#-------------------------------------------------------------\n",
    "importance_typedescription=data[[\"typedescription\",\"importance\"]]\n",
    "c2=sns.boxplot(data=importance_typedescription,x='typedescription',y='importance',ax=ax[1],palette=\"Set2\")\n",
    "c2.set(title='typedescription Vs Importance')\n",
    "c2.set_xticklabels(c2.get_xticklabels(), rotation=0)\n",
    "fig.show()"
   ]
  },
  {
   "cell_type": "markdown",
   "metadata": {},
   "source": [
    "<h1> Data Preprocessing <h1>"
   ]
  },
  {
   "cell_type": "code",
   "execution_count": 19,
   "metadata": {},
   "outputs": [
    {
     "data": {
      "text/html": [
       "<div>\n",
       "<style scoped>\n",
       "    .dataframe tbody tr th:only-of-type {\n",
       "        vertical-align: middle;\n",
       "    }\n",
       "\n",
       "    .dataframe tbody tr th {\n",
       "        vertical-align: top;\n",
       "    }\n",
       "\n",
       "    .dataframe thead th {\n",
       "        text-align: right;\n",
       "    }\n",
       "</style>\n",
       "<table border=\"1\" class=\"dataframe\">\n",
       "  <thead>\n",
       "    <tr style=\"text-align: right;\">\n",
       "      <th></th>\n",
       "      <th>appno</th>\n",
       "      <th>country.name</th>\n",
       "      <th>doctypebranch</th>\n",
       "      <th>ecli</th>\n",
       "      <th>originatingbody</th>\n",
       "      <th>originatingbody_name</th>\n",
       "      <th>rank</th>\n",
       "      <th>respondentOrderEng</th>\n",
       "      <th>separateopinion</th>\n",
       "      <th>typedescription</th>\n",
       "      <th>...</th>\n",
       "      <th>ccl_article=6</th>\n",
       "      <th>ccl_article=7</th>\n",
       "      <th>ccl_article=8</th>\n",
       "      <th>ccl_article=9</th>\n",
       "      <th>ccl_article=p1</th>\n",
       "      <th>ccl_article=p12</th>\n",
       "      <th>ccl_article=p4</th>\n",
       "      <th>ccl_article=p6</th>\n",
       "      <th>ccl_article=p7</th>\n",
       "      <th>importance</th>\n",
       "    </tr>\n",
       "  </thead>\n",
       "  <tbody>\n",
       "    <tr>\n",
       "      <th>0</th>\n",
       "      <td>2052/08</td>\n",
       "      <td>Russian Federation</td>\n",
       "      <td>CHAMBER</td>\n",
       "      <td>2009</td>\n",
       "      <td>4</td>\n",
       "      <td>First Section</td>\n",
       "      <td>685.417419</td>\n",
       "      <td>38</td>\n",
       "      <td>False</td>\n",
       "      <td>15</td>\n",
       "      <td>...</td>\n",
       "      <td>0</td>\n",
       "      <td>0</td>\n",
       "      <td>0</td>\n",
       "      <td>0</td>\n",
       "      <td>0</td>\n",
       "      <td>0</td>\n",
       "      <td>0</td>\n",
       "      <td>0</td>\n",
       "      <td>0</td>\n",
       "      <td>4</td>\n",
       "    </tr>\n",
       "    <tr>\n",
       "      <th>1</th>\n",
       "      <td>4728/07</td>\n",
       "      <td>Turkey</td>\n",
       "      <td>COMMITTEE</td>\n",
       "      <td>2018</td>\n",
       "      <td>26</td>\n",
       "      <td>Second Section Committee</td>\n",
       "      <td>2641.901855</td>\n",
       "      <td>47</td>\n",
       "      <td>False</td>\n",
       "      <td>15</td>\n",
       "      <td>...</td>\n",
       "      <td>0</td>\n",
       "      <td>0</td>\n",
       "      <td>0</td>\n",
       "      <td>0</td>\n",
       "      <td>0</td>\n",
       "      <td>0</td>\n",
       "      <td>0</td>\n",
       "      <td>0</td>\n",
       "      <td>0</td>\n",
       "      <td>4</td>\n",
       "    </tr>\n",
       "  </tbody>\n",
       "</table>\n",
       "<p>2 rows × 282 columns</p>\n",
       "</div>"
      ],
      "text/plain": [
       "     appno        country.name doctypebranch  ecli  originatingbody  \\\n",
       "0  2052/08  Russian Federation       CHAMBER  2009                4   \n",
       "1  4728/07              Turkey     COMMITTEE  2018               26   \n",
       "\n",
       "       originatingbody_name         rank  respondentOrderEng  separateopinion  \\\n",
       "0             First Section   685.417419                  38            False   \n",
       "1  Second Section Committee  2641.901855                  47            False   \n",
       "\n",
       "   typedescription  ...  ccl_article=6  ccl_article=7  ccl_article=8  \\\n",
       "0               15  ...              0              0              0   \n",
       "1               15  ...              0              0              0   \n",
       "\n",
       "   ccl_article=9  ccl_article=p1  ccl_article=p12  ccl_article=p4  \\\n",
       "0              0               0                0               0   \n",
       "1              0               0                0               0   \n",
       "\n",
       "   ccl_article=p6  ccl_article=p7  importance  \n",
       "0               0               0           4  \n",
       "1               0               0           4  \n",
       "\n",
       "[2 rows x 282 columns]"
      ]
     },
     "execution_count": 19,
     "metadata": {},
     "output_type": "execute_result"
    }
   ],
   "source": [
    "data.head(2)"
   ]
  },
  {
   "cell_type": "code",
   "execution_count": 20,
   "metadata": {},
   "outputs": [
    {
     "data": {
      "text/html": [
       "<div>\n",
       "<style scoped>\n",
       "    .dataframe tbody tr th:only-of-type {\n",
       "        vertical-align: middle;\n",
       "    }\n",
       "\n",
       "    .dataframe tbody tr th {\n",
       "        vertical-align: top;\n",
       "    }\n",
       "\n",
       "    .dataframe thead th {\n",
       "        text-align: right;\n",
       "    }\n",
       "</style>\n",
       "<table border=\"1\" class=\"dataframe\">\n",
       "  <thead>\n",
       "    <tr style=\"text-align: right;\">\n",
       "      <th></th>\n",
       "      <th>appno</th>\n",
       "      <th>rank</th>\n",
       "      <th>separateopinion</th>\n",
       "      <th>article=3</th>\n",
       "      <th>article=6</th>\n",
       "      <th>article=P1</th>\n",
       "      <th>article=5</th>\n",
       "      <th>article=8</th>\n",
       "      <th>article=13</th>\n",
       "      <th>article=10</th>\n",
       "      <th>...</th>\n",
       "      <th>Plenary</th>\n",
       "      <th>Second Section</th>\n",
       "      <th>Second Section Committee</th>\n",
       "      <th>Third Section</th>\n",
       "      <th>Third Section Committee</th>\n",
       "      <th>type__12</th>\n",
       "      <th>type__14</th>\n",
       "      <th>type__15</th>\n",
       "      <th>type__18</th>\n",
       "      <th>type__19</th>\n",
       "    </tr>\n",
       "  </thead>\n",
       "  <tbody>\n",
       "    <tr>\n",
       "      <th>0</th>\n",
       "      <td>2052/08</td>\n",
       "      <td>685.417419</td>\n",
       "      <td>0</td>\n",
       "      <td>1</td>\n",
       "      <td>0</td>\n",
       "      <td>0</td>\n",
       "      <td>1</td>\n",
       "      <td>0</td>\n",
       "      <td>0</td>\n",
       "      <td>0</td>\n",
       "      <td>...</td>\n",
       "      <td>0</td>\n",
       "      <td>0</td>\n",
       "      <td>0</td>\n",
       "      <td>0</td>\n",
       "      <td>0</td>\n",
       "      <td>0</td>\n",
       "      <td>0</td>\n",
       "      <td>1</td>\n",
       "      <td>0</td>\n",
       "      <td>0</td>\n",
       "    </tr>\n",
       "    <tr>\n",
       "      <th>1</th>\n",
       "      <td>4728/07</td>\n",
       "      <td>2641.901855</td>\n",
       "      <td>0</td>\n",
       "      <td>0</td>\n",
       "      <td>0</td>\n",
       "      <td>0</td>\n",
       "      <td>1</td>\n",
       "      <td>0</td>\n",
       "      <td>0</td>\n",
       "      <td>0</td>\n",
       "      <td>...</td>\n",
       "      <td>0</td>\n",
       "      <td>0</td>\n",
       "      <td>1</td>\n",
       "      <td>0</td>\n",
       "      <td>0</td>\n",
       "      <td>0</td>\n",
       "      <td>0</td>\n",
       "      <td>1</td>\n",
       "      <td>0</td>\n",
       "      <td>0</td>\n",
       "    </tr>\n",
       "  </tbody>\n",
       "</table>\n",
       "<p>2 rows × 390 columns</p>\n",
       "</div>"
      ],
      "text/plain": [
       "     appno         rank  separateopinion  article=3  article=6  article=P1  \\\n",
       "0  2052/08   685.417419                0          1          0           0   \n",
       "1  4728/07  2641.901855                0          0          0           0   \n",
       "\n",
       "   article=5  article=8  article=13  article=10  ...  Plenary  Second Section  \\\n",
       "0          1          0           0           0  ...        0               0   \n",
       "1          1          0           0           0  ...        0               0   \n",
       "\n",
       "   Second Section Committee  Third Section  Third Section Committee  type__12  \\\n",
       "0                         0              0                        0         0   \n",
       "1                         1              0                        0         0   \n",
       "\n",
       "   type__14  type__15  type__18  type__19  \n",
       "0         0         1         0         0  \n",
       "1         0         1         0         0  \n",
       "\n",
       "[2 rows x 390 columns]"
      ]
     },
     "execution_count": 20,
     "metadata": {},
     "output_type": "execute_result"
    }
   ],
   "source": [
    "country=pd.get_dummies(data['country.name'])\n",
    "branch=pd.get_dummies(data['doctypebranch'])\n",
    "ecli=pd.get_dummies(data['ecli'])\n",
    "originatingbody=pd.get_dummies(data['originatingbody_name'])\n",
    "typedescription=pd.get_dummies(data['typedescription'],prefix='type_')\n",
    "\n",
    "le = preprocessing.LabelEncoder()\n",
    "\n",
    "data['doctypebranch']=le.fit_transform(data['doctypebranch'])\n",
    "\n",
    "data['separateopinion']=le.fit_transform(data['separateopinion'])\n",
    "\n",
    "ds=pd.concat([country,branch,ecli,originatingbody,typedescription],axis=1)\n",
    "ds.head(3)\n",
    "\n",
    "Y_res=data['importance']\n",
    "new_data=data.drop(['country.name','doctypebranch','ecli','originatingbody_name','typedescription','respondentOrderEng','originatingbody','importance'],axis=1)\n",
    "\n",
    "new_data.head(3)\n",
    "\n",
    "new_data=pd.concat([new_data,ds],axis=1)\n",
    "\n",
    "new_data.head(2)"
   ]
  },
  {
   "cell_type": "code",
   "execution_count": 21,
   "metadata": {},
   "outputs": [],
   "source": [
    "#new_data.to_csv(\"AXA.csv\")"
   ]
  },
  {
   "cell_type": "markdown",
   "metadata": {},
   "source": [
    "<h1> Creating and Running on models <h1>"
   ]
  },
  {
   "cell_type": "code",
   "execution_count": 22,
   "metadata": {},
   "outputs": [],
   "source": [
    "from sklearn.model_selection import train_test_split\n",
    "import xgboost as xgb\n",
    "X_train, X_test, y_train, y_test = train_test_split(new_data, Y_res, test_size=0.2, random_state=123)\n",
    "\n",
    "xg_reg = xgb.XGBClassifier(objective ='reg:linear', colsample_bytree = 0.3, learning_rate = 0.1,\n",
    "                max_depth = 50, alpha = 10, n_estimators = 100)"
   ]
  },
  {
   "cell_type": "code",
   "execution_count": 23,
   "metadata": {},
   "outputs": [
    {
     "data": {
      "text/html": [
       "<div>\n",
       "<style scoped>\n",
       "    .dataframe tbody tr th:only-of-type {\n",
       "        vertical-align: middle;\n",
       "    }\n",
       "\n",
       "    .dataframe tbody tr th {\n",
       "        vertical-align: top;\n",
       "    }\n",
       "\n",
       "    .dataframe thead th {\n",
       "        text-align: right;\n",
       "    }\n",
       "</style>\n",
       "<table border=\"1\" class=\"dataframe\">\n",
       "  <thead>\n",
       "    <tr style=\"text-align: right;\">\n",
       "      <th></th>\n",
       "      <th>appno</th>\n",
       "      <th>rank</th>\n",
       "      <th>separateopinion</th>\n",
       "      <th>article=3</th>\n",
       "      <th>article=6</th>\n",
       "      <th>article=P1</th>\n",
       "      <th>article=5</th>\n",
       "      <th>article=8</th>\n",
       "      <th>article=13</th>\n",
       "      <th>article=10</th>\n",
       "      <th>...</th>\n",
       "      <th>Plenary</th>\n",
       "      <th>Second Section</th>\n",
       "      <th>Second Section Committee</th>\n",
       "      <th>Third Section</th>\n",
       "      <th>Third Section Committee</th>\n",
       "      <th>type__12</th>\n",
       "      <th>type__14</th>\n",
       "      <th>type__15</th>\n",
       "      <th>type__18</th>\n",
       "      <th>type__19</th>\n",
       "    </tr>\n",
       "  </thead>\n",
       "  <tbody>\n",
       "    <tr>\n",
       "      <th>4000</th>\n",
       "      <td>36024/03</td>\n",
       "      <td>707.047241</td>\n",
       "      <td>0</td>\n",
       "      <td>0</td>\n",
       "      <td>1</td>\n",
       "      <td>0</td>\n",
       "      <td>0</td>\n",
       "      <td>0</td>\n",
       "      <td>0</td>\n",
       "      <td>0</td>\n",
       "      <td>...</td>\n",
       "      <td>0</td>\n",
       "      <td>0</td>\n",
       "      <td>0</td>\n",
       "      <td>0</td>\n",
       "      <td>0</td>\n",
       "      <td>0</td>\n",
       "      <td>0</td>\n",
       "      <td>1</td>\n",
       "      <td>0</td>\n",
       "      <td>0</td>\n",
       "    </tr>\n",
       "    <tr>\n",
       "      <th>7120</th>\n",
       "      <td>4493/04</td>\n",
       "      <td>609.325989</td>\n",
       "      <td>1</td>\n",
       "      <td>0</td>\n",
       "      <td>0</td>\n",
       "      <td>0</td>\n",
       "      <td>1</td>\n",
       "      <td>0</td>\n",
       "      <td>0</td>\n",
       "      <td>0</td>\n",
       "      <td>...</td>\n",
       "      <td>0</td>\n",
       "      <td>0</td>\n",
       "      <td>0</td>\n",
       "      <td>0</td>\n",
       "      <td>0</td>\n",
       "      <td>0</td>\n",
       "      <td>0</td>\n",
       "      <td>1</td>\n",
       "      <td>0</td>\n",
       "      <td>0</td>\n",
       "    </tr>\n",
       "    <tr>\n",
       "      <th>3453</th>\n",
       "      <td>45388/99</td>\n",
       "      <td>708.966370</td>\n",
       "      <td>0</td>\n",
       "      <td>0</td>\n",
       "      <td>0</td>\n",
       "      <td>0</td>\n",
       "      <td>0</td>\n",
       "      <td>0</td>\n",
       "      <td>0</td>\n",
       "      <td>0</td>\n",
       "      <td>...</td>\n",
       "      <td>0</td>\n",
       "      <td>0</td>\n",
       "      <td>0</td>\n",
       "      <td>0</td>\n",
       "      <td>0</td>\n",
       "      <td>0</td>\n",
       "      <td>0</td>\n",
       "      <td>1</td>\n",
       "      <td>0</td>\n",
       "      <td>0</td>\n",
       "    </tr>\n",
       "    <tr>\n",
       "      <th>3628</th>\n",
       "      <td>68011/01</td>\n",
       "      <td>553.819214</td>\n",
       "      <td>0</td>\n",
       "      <td>0</td>\n",
       "      <td>0</td>\n",
       "      <td>1</td>\n",
       "      <td>0</td>\n",
       "      <td>0</td>\n",
       "      <td>0</td>\n",
       "      <td>0</td>\n",
       "      <td>...</td>\n",
       "      <td>0</td>\n",
       "      <td>0</td>\n",
       "      <td>0</td>\n",
       "      <td>1</td>\n",
       "      <td>0</td>\n",
       "      <td>0</td>\n",
       "      <td>0</td>\n",
       "      <td>1</td>\n",
       "      <td>0</td>\n",
       "      <td>0</td>\n",
       "    </tr>\n",
       "    <tr>\n",
       "      <th>3208</th>\n",
       "      <td>21954/16</td>\n",
       "      <td>6631.344727</td>\n",
       "      <td>0</td>\n",
       "      <td>0</td>\n",
       "      <td>0</td>\n",
       "      <td>1</td>\n",
       "      <td>0</td>\n",
       "      <td>0</td>\n",
       "      <td>0</td>\n",
       "      <td>0</td>\n",
       "      <td>...</td>\n",
       "      <td>0</td>\n",
       "      <td>0</td>\n",
       "      <td>0</td>\n",
       "      <td>0</td>\n",
       "      <td>0</td>\n",
       "      <td>0</td>\n",
       "      <td>0</td>\n",
       "      <td>1</td>\n",
       "      <td>0</td>\n",
       "      <td>0</td>\n",
       "    </tr>\n",
       "  </tbody>\n",
       "</table>\n",
       "<p>5 rows × 390 columns</p>\n",
       "</div>"
      ],
      "text/plain": [
       "         appno         rank  separateopinion  article=3  article=6  \\\n",
       "4000  36024/03   707.047241                0          0          1   \n",
       "7120   4493/04   609.325989                1          0          0   \n",
       "3453  45388/99   708.966370                0          0          0   \n",
       "3628  68011/01   553.819214                0          0          0   \n",
       "3208  21954/16  6631.344727                0          0          0   \n",
       "\n",
       "      article=P1  article=5  article=8  article=13  article=10  ...  Plenary  \\\n",
       "4000           0          0          0           0           0  ...        0   \n",
       "7120           0          1          0           0           0  ...        0   \n",
       "3453           0          0          0           0           0  ...        0   \n",
       "3628           1          0          0           0           0  ...        0   \n",
       "3208           1          0          0           0           0  ...        0   \n",
       "\n",
       "      Second Section  Second Section Committee  Third Section  \\\n",
       "4000               0                         0              0   \n",
       "7120               0                         0              0   \n",
       "3453               0                         0              0   \n",
       "3628               0                         0              1   \n",
       "3208               0                         0              0   \n",
       "\n",
       "      Third Section Committee  type__12  type__14  type__15  type__18  \\\n",
       "4000                        0         0         0         1         0   \n",
       "7120                        0         0         0         1         0   \n",
       "3453                        0         0         0         1         0   \n",
       "3628                        0         0         0         1         0   \n",
       "3208                        0         0         0         1         0   \n",
       "\n",
       "      type__19  \n",
       "4000         0  \n",
       "7120         0  \n",
       "3453         0  \n",
       "3628         0  \n",
       "3208         0  \n",
       "\n",
       "[5 rows x 390 columns]"
      ]
     },
     "execution_count": 23,
     "metadata": {},
     "output_type": "execute_result"
    }
   ],
   "source": [
    "X_train.head()"
   ]
  },
  {
   "cell_type": "code",
   "execution_count": 24,
   "metadata": {},
   "outputs": [
    {
     "name": "stderr",
     "output_type": "stream",
     "text": [
      "c:\\users\\16063\\appdata\\local\\programs\\python\\python39\\lib\\site-packages\\xgboost\\sklearn.py:892: UserWarning: The use of label encoder in XGBClassifier is deprecated and will be removed in a future release. To remove this warning, do the following: 1) Pass option use_label_encoder=False when constructing XGBClassifier object; and 2) Encode your labels (y) as integers starting with 0, i.e. 0, 1, 2, ..., [num_class - 1].\n",
      "  warnings.warn(label_encoder_deprecation_msg, UserWarning)\n"
     ]
    },
    {
     "name": "stdout",
     "output_type": "stream",
     "text": [
      "[09:15:57] WARNING: C:/Users/Administrator/workspace/xgboost-win64_release_1.3.0/src/learner.cc:1061: Starting in XGBoost 1.3.0, the default evaluation metric used with the objective 'multi:softprob' was changed from 'merror' to 'mlogloss'. Explicitly set eval_metric if you'd like to restore the old behavior.\n"
     ]
    },
    {
     "data": {
      "text/plain": [
       "XGBClassifier(alpha=10, base_score=0.5, booster='gbtree', colsample_bylevel=1,\n",
       "              colsample_bynode=1, colsample_bytree=0.3, gamma=0, gpu_id=-1,\n",
       "              importance_type='gain', interaction_constraints='',\n",
       "              learning_rate=0.1, max_delta_step=0, max_depth=50,\n",
       "              min_child_weight=1, missing=nan, monotone_constraints='()',\n",
       "              n_estimators=100, n_jobs=4, num_parallel_tree=1,\n",
       "              objective='multi:softprob', random_state=0, reg_alpha=10,\n",
       "              reg_lambda=1, scale_pos_weight=None, subsample=1,\n",
       "              tree_method='exact', validate_parameters=1, verbosity=None)"
      ]
     },
     "execution_count": 24,
     "metadata": {},
     "output_type": "execute_result"
    }
   ],
   "source": [
    "xg_reg.fit(X_train.drop(['appno'],axis=1),y_train)"
   ]
  },
  {
   "cell_type": "code",
   "execution_count": 25,
   "metadata": {},
   "outputs": [],
   "source": [
    "res=xg_reg.predict(X_test.drop(['appno'],axis=1))"
   ]
  },
  {
   "cell_type": "code",
   "execution_count": 26,
   "metadata": {},
   "outputs": [
    {
     "data": {
      "text/plain": [
       "array([3, 4, 3, ..., 3, 1, 3], dtype=int64)"
      ]
     },
     "execution_count": 26,
     "metadata": {},
     "output_type": "execute_result"
    }
   ],
   "source": [
    "res"
   ]
  },
  {
   "cell_type": "code",
   "execution_count": 27,
   "metadata": {},
   "outputs": [
    {
     "data": {
      "text/plain": [
       "6804    3\n",
       "6959    4\n",
       "1033    3\n",
       "3031    4\n",
       "3802    4\n",
       "       ..\n",
       "2481    4\n",
       "4431    3\n",
       "1569    3\n",
       "4238    1\n",
       "3792    3\n",
       "Name: importance, Length: 1776, dtype: int64"
      ]
     },
     "execution_count": 27,
     "metadata": {},
     "output_type": "execute_result"
    }
   ],
   "source": [
    "y_test"
   ]
  },
  {
   "cell_type": "code",
   "execution_count": 28,
   "metadata": {},
   "outputs": [
    {
     "data": {
      "text/plain": [
       "XGBClassifier(alpha=10, base_score=0.5, booster='gbtree', colsample_bylevel=1,\n",
       "              colsample_bynode=1, colsample_bytree=0.3, gamma=0, gpu_id=-1,\n",
       "              importance_type='gain', interaction_constraints='',\n",
       "              learning_rate=0.1, max_delta_step=0, max_depth=50,\n",
       "              min_child_weight=1, missing=nan, monotone_constraints='()',\n",
       "              n_estimators=100, n_jobs=4, num_parallel_tree=1,\n",
       "              objective='multi:softprob', random_state=0, reg_alpha=10,\n",
       "              reg_lambda=1, scale_pos_weight=None, subsample=1,\n",
       "              tree_method='exact', validate_parameters=1, verbosity=None)"
      ]
     },
     "execution_count": 28,
     "metadata": {},
     "output_type": "execute_result"
    }
   ],
   "source": [
    "xg_reg"
   ]
  },
  {
   "cell_type": "code",
   "execution_count": 29,
   "metadata": {},
   "outputs": [],
   "source": [
    "feat_imp=xg_reg.get_booster().get_score(importance_type= 'gain')"
   ]
  },
  {
   "cell_type": "code",
   "execution_count": 30,
   "metadata": {},
   "outputs": [
    {
     "data": {
      "text/plain": [
       "[['paragraphs=37-1-a', 0.09015391761875001],\n",
       " ['paragraphs=P7-5', 0.019762814025],\n",
       " ['paragraphs=46-1', 0.08210992815]]"
      ]
     },
     "execution_count": 30,
     "metadata": {},
     "output_type": "execute_result"
    }
   ],
   "source": [
    "desired=[[i,feat_imp[i]] for i in feat_imp if(feat_imp[i]<0.1)]\n",
    "desired"
   ]
  },
  {
   "cell_type": "code",
   "execution_count": 31,
   "metadata": {},
   "outputs": [
    {
     "data": {
      "text/plain": [
       "['paragraphs=37-1-a', 'paragraphs=P7-5', 'paragraphs=46-1']"
      ]
     },
     "execution_count": 31,
     "metadata": {},
     "output_type": "execute_result"
    }
   ],
   "source": [
    "best_feat=[i[0] for i in desired]\n",
    "best_feat"
   ]
  },
  {
   "cell_type": "markdown",
   "metadata": {},
   "source": [
    "<h3> Function to test and do forwards and bacward ellimination <h3>"
   ]
  },
  {
   "cell_type": "code",
   "execution_count": 49,
   "metadata": {},
   "outputs": [],
   "source": [
    "from sklearn.model_selection import train_test_split\n",
    "from sklearn.metrics import accuracy_score\n",
    "import xgboost as xgb\n",
    "def model_selection(data,y_test,best_features):\n",
    "    X_train, X_test, y_train, y_test = train_test_split(data, Y_res, test_size=0.2, random_state=123)\n",
    "    xg_reg = xgb.XGBClassifier(objective ='reg:linear', colsample_bytree = 0.3, learning_rate = 0.1,\n",
    "                max_depth = 10, alpha = 10, n_estimators = 100)\n",
    "    X_train=X_train.drop(best_features,axis=1)\n",
    "    X_test=X_test.drop(best_features,axis=1)\n",
    "    xg_reg.fit(X_train.drop(['appno'],axis=1),y_train)\n",
    "    res=xg_reg.predict(X_test.drop(['appno'],axis=1),)\n",
    "    return accuracy_score(y_test, res)"
   ]
  },
  {
   "cell_type": "code",
   "execution_count": 50,
   "metadata": {},
   "outputs": [
    {
     "name": "stderr",
     "output_type": "stream",
     "text": [
      "c:\\users\\16063\\appdata\\local\\programs\\python\\python39\\lib\\site-packages\\xgboost\\sklearn.py:892: UserWarning: The use of label encoder in XGBClassifier is deprecated and will be removed in a future release. To remove this warning, do the following: 1) Pass option use_label_encoder=False when constructing XGBClassifier object; and 2) Encode your labels (y) as integers starting with 0, i.e. 0, 1, 2, ..., [num_class - 1].\n",
      "  warnings.warn(label_encoder_deprecation_msg, UserWarning)\n"
     ]
    },
    {
     "name": "stdout",
     "output_type": "stream",
     "text": [
      "[09:24:35] WARNING: C:/Users/Administrator/workspace/xgboost-win64_release_1.3.0/src/learner.cc:1061: Starting in XGBoost 1.3.0, the default evaluation metric used with the objective 'multi:softprob' was changed from 'merror' to 'mlogloss'. Explicitly set eval_metric if you'd like to restore the old behavior.\n",
      "\n",
      "\n",
      "\n",
      "Score is : 0.8755630630630631\n"
     ]
    }
   ],
   "source": [
    "x=(model_selection(new_data,y_test,best_feat))\n",
    "print(\"\\n\\n\\nScore is : \"+str(x))"
   ]
  },
  {
   "cell_type": "code",
   "execution_count": 34,
   "metadata": {},
   "outputs": [],
   "source": [
    "res\n",
    "appno=new_data['appno']"
   ]
  },
  {
   "cell_type": "code",
   "execution_count": 35,
   "metadata": {},
   "outputs": [
    {
     "data": {
      "text/plain": [
       "array([3, 4, 3, ..., 3, 1, 3], dtype=int64)"
      ]
     },
     "execution_count": 35,
     "metadata": {},
     "output_type": "execute_result"
    }
   ],
   "source": [
    "res"
   ]
  },
  {
   "cell_type": "markdown",
   "metadata": {},
   "source": [
    "<h3>preprocessing template function<h3>"
   ]
  },
  {
   "cell_type": "code",
   "execution_count": 36,
   "metadata": {},
   "outputs": [
    {
     "name": "stderr",
     "output_type": "stream",
     "text": [
      "c:\\users\\16063\\appdata\\local\\programs\\python\\python39\\lib\\site-packages\\IPython\\core\\interactiveshell.py:3146: DtypeWarning: Columns (14,15,16,17,18,19,20,22,23,24,25,49,50,51) have mixed types.Specify dtype option on import or set low_memory=False.\n",
      "  has_raised = await self.run_ast_nodes(code_ast.body, cell_name,\n"
     ]
    },
    {
     "data": {
      "text/html": [
       "<div>\n",
       "<style scoped>\n",
       "    .dataframe tbody tr th:only-of-type {\n",
       "        vertical-align: middle;\n",
       "    }\n",
       "\n",
       "    .dataframe tbody tr th {\n",
       "        vertical-align: top;\n",
       "    }\n",
       "\n",
       "    .dataframe thead th {\n",
       "        text-align: right;\n",
       "    }\n",
       "</style>\n",
       "<table border=\"1\" class=\"dataframe\">\n",
       "  <thead>\n",
       "    <tr style=\"text-align: right;\">\n",
       "      <th></th>\n",
       "      <th>appno</th>\n",
       "      <th>rank</th>\n",
       "      <th>separateopinion</th>\n",
       "      <th>article=3</th>\n",
       "      <th>article=6</th>\n",
       "      <th>article=P1</th>\n",
       "      <th>article=5</th>\n",
       "      <th>article=8</th>\n",
       "      <th>article=13</th>\n",
       "      <th>article=10</th>\n",
       "      <th>...</th>\n",
       "      <th>Fourth Section Committee</th>\n",
       "      <th>Grand Chamber</th>\n",
       "      <th>Plenary</th>\n",
       "      <th>Second Section</th>\n",
       "      <th>Second Section Committee</th>\n",
       "      <th>Third Section</th>\n",
       "      <th>Third Section Committee</th>\n",
       "      <th>type__12</th>\n",
       "      <th>type__14</th>\n",
       "      <th>type__15</th>\n",
       "    </tr>\n",
       "  </thead>\n",
       "  <tbody>\n",
       "    <tr>\n",
       "      <th>0</th>\n",
       "      <td>1194/04</td>\n",
       "      <td>794.766724</td>\n",
       "      <td>0</td>\n",
       "      <td>0</td>\n",
       "      <td>1</td>\n",
       "      <td>0</td>\n",
       "      <td>0</td>\n",
       "      <td>0</td>\n",
       "      <td>0</td>\n",
       "      <td>0</td>\n",
       "      <td>...</td>\n",
       "      <td>0</td>\n",
       "      <td>0</td>\n",
       "      <td>0</td>\n",
       "      <td>0</td>\n",
       "      <td>0</td>\n",
       "      <td>0</td>\n",
       "      <td>0</td>\n",
       "      <td>0</td>\n",
       "      <td>0</td>\n",
       "      <td>1</td>\n",
       "    </tr>\n",
       "    <tr>\n",
       "      <th>1</th>\n",
       "      <td>53865/11</td>\n",
       "      <td>1448.891235</td>\n",
       "      <td>0</td>\n",
       "      <td>1</td>\n",
       "      <td>0</td>\n",
       "      <td>0</td>\n",
       "      <td>1</td>\n",
       "      <td>0</td>\n",
       "      <td>0</td>\n",
       "      <td>0</td>\n",
       "      <td>...</td>\n",
       "      <td>0</td>\n",
       "      <td>0</td>\n",
       "      <td>0</td>\n",
       "      <td>0</td>\n",
       "      <td>0</td>\n",
       "      <td>0</td>\n",
       "      <td>0</td>\n",
       "      <td>0</td>\n",
       "      <td>0</td>\n",
       "      <td>1</td>\n",
       "    </tr>\n",
       "  </tbody>\n",
       "</table>\n",
       "<p>2 rows × 388 columns</p>\n",
       "</div>"
      ],
      "text/plain": [
       "      appno         rank  separateopinion  article=3  article=6  article=P1  \\\n",
       "0   1194/04   794.766724                0          0          1           0   \n",
       "1  53865/11  1448.891235                0          1          0           0   \n",
       "\n",
       "   article=5  article=8  article=13  article=10  ...  \\\n",
       "0          0          0           0           0  ...   \n",
       "1          1          0           0           0  ...   \n",
       "\n",
       "   Fourth Section Committee  Grand Chamber  Plenary  Second Section  \\\n",
       "0                         0              0        0               0   \n",
       "1                         0              0        0               0   \n",
       "\n",
       "   Second Section Committee  Third Section  Third Section Committee  type__12  \\\n",
       "0                         0              0                        0         0   \n",
       "1                         0              0                        0         0   \n",
       "\n",
       "   type__14  type__15  \n",
       "0         0         1  \n",
       "1         0         1  \n",
       "\n",
       "[2 rows x 388 columns]"
      ]
     },
     "execution_count": 36,
     "metadata": {},
     "output_type": "execute_result"
    }
   ],
   "source": [
    "data=pd.read_csv(\"test.csv\")\n",
    "data=data.drop(['sharepointid','application','country.alpha2','decisiondate','docname','itemid','judgementdate','kpdate','languageisocode','originatingbody_type','parties.0','parties.1','parties.2','respondent.0','respondent.1','respondent.2','respondent.3',\n",
    "           'respondent.4'],axis=1)\n",
    "data=data.drop(empty,axis=1)\n",
    "data['ecli']=data['ecli'].iloc[:].str.slice(13,17)\n",
    "country=pd.get_dummies(data['country.name'])\n",
    "branch=pd.get_dummies(data['doctypebranch'])\n",
    "ecli=pd.get_dummies(data['ecli'])\n",
    "originatingbody=pd.get_dummies(data['originatingbody_name'])\n",
    "typedescription=pd.get_dummies(data['typedescription'],prefix='type_')\n",
    "\n",
    "le = preprocessing.LabelEncoder()\n",
    "\n",
    "data['doctypebranch']=le.fit_transform(data['doctypebranch'])\n",
    "\n",
    "data['separateopinion']=le.fit_transform(data['separateopinion'])\n",
    "\n",
    "ds=pd.concat([country,branch,ecli,originatingbody,typedescription],axis=1)\n",
    "ds.head(3)\n",
    "\n",
    "new_data_2=data.drop(['country.name','doctypebranch','ecli','originatingbody_name','typedescription','respondentOrderEng','originatingbody'],axis=1)\n",
    "\n",
    "new_data_2.head(3)\n",
    "\n",
    "new_data_2=pd.concat([new_data_2,ds],axis=1)\n",
    "\n",
    "new_data_2.head(2)"
   ]
  },
  {
   "cell_type": "code",
   "execution_count": 37,
   "metadata": {},
   "outputs": [
    {
     "name": "stderr",
     "output_type": "stream",
     "text": [
      "c:\\users\\16063\\appdata\\local\\programs\\python\\python39\\lib\\site-packages\\xgboost\\sklearn.py:892: UserWarning: The use of label encoder in XGBClassifier is deprecated and will be removed in a future release. To remove this warning, do the following: 1) Pass option use_label_encoder=False when constructing XGBClassifier object; and 2) Encode your labels (y) as integers starting with 0, i.e. 0, 1, 2, ..., [num_class - 1].\n",
      "  warnings.warn(label_encoder_deprecation_msg, UserWarning)\n"
     ]
    },
    {
     "name": "stdout",
     "output_type": "stream",
     "text": [
      "[09:16:41] WARNING: C:/Users/Administrator/workspace/xgboost-win64_release_1.3.0/src/learner.cc:1061: Starting in XGBoost 1.3.0, the default evaluation metric used with the objective 'multi:softprob' was changed from 'merror' to 'mlogloss'. Explicitly set eval_metric if you'd like to restore the old behavior.\n"
     ]
    },
    {
     "data": {
      "text/plain": [
       "XGBClassifier(alpha=10, base_score=0.5, booster='gbtree', colsample_bylevel=1,\n",
       "              colsample_bynode=1, colsample_bytree=0.3, gamma=0, gpu_id=-1,\n",
       "              importance_type='gain', interaction_constraints='',\n",
       "              learning_rate=0.1, max_delta_step=0, max_depth=100,\n",
       "              min_child_weight=1, missing=nan, monotone_constraints='()',\n",
       "              n_estimators=100, n_jobs=4, num_parallel_tree=1,\n",
       "              objective='multi:softprob', random_state=0, reg_alpha=10,\n",
       "              reg_lambda=1, scale_pos_weight=None, subsample=1,\n",
       "              tree_method='exact', validate_parameters=1, verbosity=None)"
      ]
     },
     "execution_count": 37,
     "metadata": {},
     "output_type": "execute_result"
    }
   ],
   "source": [
    "xg_reg = xgb.XGBClassifier(objective ='reg:logistic', colsample_bytree = 0.3, learning_rate = 0.1,max_depth = 100, alpha = 10, n_estimators = 100)\n",
    "#new_data['1961']=0\n",
    "#new_data['1972']=0\n",
    "#new_data['1970']=0\n",
    "xg_reg.fit(new_data.drop(['appno','type__18','type__19','1971', '1969', '1974'],axis=1),req_res)"
   ]
  },
  {
   "cell_type": "code",
   "execution_count": 38,
   "metadata": {},
   "outputs": [],
   "source": [
    "my_res=xg_reg.predict(new_data_2.drop(['appno','1970','1972','1961'],axis=1))"
   ]
  },
  {
   "cell_type": "code",
   "execution_count": 39,
   "metadata": {},
   "outputs": [
    {
     "data": {
      "text/plain": [
       "array([4, 4, 4, ..., 4, 4, 4], dtype=int64)"
      ]
     },
     "execution_count": 39,
     "metadata": {},
     "output_type": "execute_result"
    }
   ],
   "source": [
    "my_res"
   ]
  },
  {
   "cell_type": "code",
   "execution_count": 40,
   "metadata": {},
   "outputs": [],
   "source": [
    "op=pd.DataFrame()\n",
    "op['appno']=new_data_2['appno']\n",
    "op['importance']=my_res\n",
    "op.to_csv(\"submission.csv\",index=False)"
   ]
  }
 ],
 "metadata": {
  "kernelspec": {
   "display_name": "Python 3",
   "language": "python",
   "name": "python3"
  },
  "language_info": {
   "codemirror_mode": {
    "name": "ipython",
    "version": 3
   },
   "file_extension": ".py",
   "mimetype": "text/x-python",
   "name": "python",
   "nbconvert_exporter": "python",
   "pygments_lexer": "ipython3",
   "version": "3.9.1"
  }
 },
 "nbformat": 4,
 "nbformat_minor": 4
}
